{
 "cells": [
  {
   "cell_type": "code",
   "execution_count": 1,
   "id": "e28c64b2",
   "metadata": {},
   "outputs": [],
   "source": [
    "import pandas as pd\n",
    "import numpy as np"
   ]
  },
  {
   "cell_type": "code",
   "execution_count": 2,
   "id": "baed868d",
   "metadata": {},
   "outputs": [
    {
     "data": {
      "text/html": [
       "<div>\n",
       "<style scoped>\n",
       "    .dataframe tbody tr th:only-of-type {\n",
       "        vertical-align: middle;\n",
       "    }\n",
       "\n",
       "    .dataframe tbody tr th {\n",
       "        vertical-align: top;\n",
       "    }\n",
       "\n",
       "    .dataframe thead th {\n",
       "        text-align: right;\n",
       "    }\n",
       "</style>\n",
       "<table border=\"1\" class=\"dataframe\">\n",
       "  <thead>\n",
       "    <tr style=\"text-align: right;\">\n",
       "      <th></th>\n",
       "      <th>CUST_ID</th>\n",
       "      <th>INCOME</th>\n",
       "      <th>SAVINGS</th>\n",
       "      <th>DEBT</th>\n",
       "      <th>R_SAVINGS_INCOME</th>\n",
       "      <th>R_DEBT_INCOME</th>\n",
       "      <th>R_DEBT_SAVINGS</th>\n",
       "      <th>T_CLOTHING_12</th>\n",
       "      <th>T_CLOTHING_6</th>\n",
       "      <th>R_CLOTHING</th>\n",
       "      <th>...</th>\n",
       "      <th>R_EXPENDITURE_SAVINGS</th>\n",
       "      <th>R_EXPENDITURE_DEBT</th>\n",
       "      <th>CAT_GAMBLING</th>\n",
       "      <th>CAT_DEBT</th>\n",
       "      <th>CAT_CREDIT_CARD</th>\n",
       "      <th>CAT_MORTGAGE</th>\n",
       "      <th>CAT_SAVINGS_ACCOUNT</th>\n",
       "      <th>CAT_DEPENDENTS</th>\n",
       "      <th>CREDIT_SCORE</th>\n",
       "      <th>DEFAULT</th>\n",
       "    </tr>\n",
       "  </thead>\n",
       "  <tbody>\n",
       "    <tr>\n",
       "      <th>0</th>\n",
       "      <td>C02COQEVYU</td>\n",
       "      <td>33269</td>\n",
       "      <td>0</td>\n",
       "      <td>532304</td>\n",
       "      <td>0.0000</td>\n",
       "      <td>16.0000</td>\n",
       "      <td>1.2000</td>\n",
       "      <td>1889</td>\n",
       "      <td>945</td>\n",
       "      <td>0.5003</td>\n",
       "      <td>...</td>\n",
       "      <td>0.0000</td>\n",
       "      <td>0.0625</td>\n",
       "      <td>High</td>\n",
       "      <td>1</td>\n",
       "      <td>0</td>\n",
       "      <td>0</td>\n",
       "      <td>0</td>\n",
       "      <td>0</td>\n",
       "      <td>444</td>\n",
       "      <td>1</td>\n",
       "    </tr>\n",
       "    <tr>\n",
       "      <th>1</th>\n",
       "      <td>C02OZKC0ZF</td>\n",
       "      <td>77158</td>\n",
       "      <td>91187</td>\n",
       "      <td>315648</td>\n",
       "      <td>1.1818</td>\n",
       "      <td>4.0909</td>\n",
       "      <td>3.4615</td>\n",
       "      <td>5818</td>\n",
       "      <td>111</td>\n",
       "      <td>0.0191</td>\n",
       "      <td>...</td>\n",
       "      <td>0.7692</td>\n",
       "      <td>0.2222</td>\n",
       "      <td>No</td>\n",
       "      <td>1</td>\n",
       "      <td>0</td>\n",
       "      <td>0</td>\n",
       "      <td>1</td>\n",
       "      <td>0</td>\n",
       "      <td>625</td>\n",
       "      <td>0</td>\n",
       "    </tr>\n",
       "    <tr>\n",
       "      <th>2</th>\n",
       "      <td>C03FHP2D0A</td>\n",
       "      <td>30917</td>\n",
       "      <td>21642</td>\n",
       "      <td>534864</td>\n",
       "      <td>0.7000</td>\n",
       "      <td>17.3000</td>\n",
       "      <td>24.7142</td>\n",
       "      <td>1157</td>\n",
       "      <td>860</td>\n",
       "      <td>0.7433</td>\n",
       "      <td>...</td>\n",
       "      <td>1.4286</td>\n",
       "      <td>0.0578</td>\n",
       "      <td>High</td>\n",
       "      <td>1</td>\n",
       "      <td>0</td>\n",
       "      <td>0</td>\n",
       "      <td>1</td>\n",
       "      <td>0</td>\n",
       "      <td>469</td>\n",
       "      <td>1</td>\n",
       "    </tr>\n",
       "    <tr>\n",
       "      <th>3</th>\n",
       "      <td>C03PVPPHOY</td>\n",
       "      <td>80657</td>\n",
       "      <td>64526</td>\n",
       "      <td>629125</td>\n",
       "      <td>0.8000</td>\n",
       "      <td>7.8000</td>\n",
       "      <td>9.7499</td>\n",
       "      <td>6857</td>\n",
       "      <td>3686</td>\n",
       "      <td>0.5376</td>\n",
       "      <td>...</td>\n",
       "      <td>1.2500</td>\n",
       "      <td>0.1282</td>\n",
       "      <td>High</td>\n",
       "      <td>1</td>\n",
       "      <td>0</td>\n",
       "      <td>0</td>\n",
       "      <td>1</td>\n",
       "      <td>0</td>\n",
       "      <td>559</td>\n",
       "      <td>0</td>\n",
       "    </tr>\n",
       "    <tr>\n",
       "      <th>4</th>\n",
       "      <td>C04J69MUX0</td>\n",
       "      <td>149971</td>\n",
       "      <td>1172498</td>\n",
       "      <td>2399531</td>\n",
       "      <td>7.8182</td>\n",
       "      <td>16.0000</td>\n",
       "      <td>2.0465</td>\n",
       "      <td>1978</td>\n",
       "      <td>322</td>\n",
       "      <td>0.1628</td>\n",
       "      <td>...</td>\n",
       "      <td>0.1163</td>\n",
       "      <td>0.0568</td>\n",
       "      <td>High</td>\n",
       "      <td>1</td>\n",
       "      <td>1</td>\n",
       "      <td>1</td>\n",
       "      <td>1</td>\n",
       "      <td>1</td>\n",
       "      <td>473</td>\n",
       "      <td>0</td>\n",
       "    </tr>\n",
       "  </tbody>\n",
       "</table>\n",
       "<p>5 rows × 87 columns</p>\n",
       "</div>"
      ],
      "text/plain": [
       "      CUST_ID  INCOME  SAVINGS     DEBT  R_SAVINGS_INCOME  R_DEBT_INCOME  \\\n",
       "0  C02COQEVYU   33269        0   532304            0.0000        16.0000   \n",
       "1  C02OZKC0ZF   77158    91187   315648            1.1818         4.0909   \n",
       "2  C03FHP2D0A   30917    21642   534864            0.7000        17.3000   \n",
       "3  C03PVPPHOY   80657    64526   629125            0.8000         7.8000   \n",
       "4  C04J69MUX0  149971  1172498  2399531            7.8182        16.0000   \n",
       "\n",
       "   R_DEBT_SAVINGS  T_CLOTHING_12  T_CLOTHING_6  R_CLOTHING  ...  \\\n",
       "0          1.2000           1889           945      0.5003  ...   \n",
       "1          3.4615           5818           111      0.0191  ...   \n",
       "2         24.7142           1157           860      0.7433  ...   \n",
       "3          9.7499           6857          3686      0.5376  ...   \n",
       "4          2.0465           1978           322      0.1628  ...   \n",
       "\n",
       "   R_EXPENDITURE_SAVINGS  R_EXPENDITURE_DEBT  CAT_GAMBLING  CAT_DEBT  \\\n",
       "0                 0.0000              0.0625          High         1   \n",
       "1                 0.7692              0.2222            No         1   \n",
       "2                 1.4286              0.0578          High         1   \n",
       "3                 1.2500              0.1282          High         1   \n",
       "4                 0.1163              0.0568          High         1   \n",
       "\n",
       "   CAT_CREDIT_CARD  CAT_MORTGAGE  CAT_SAVINGS_ACCOUNT  CAT_DEPENDENTS  \\\n",
       "0                0             0                    0               0   \n",
       "1                0             0                    1               0   \n",
       "2                0             0                    1               0   \n",
       "3                0             0                    1               0   \n",
       "4                1             1                    1               1   \n",
       "\n",
       "   CREDIT_SCORE  DEFAULT  \n",
       "0           444        1  \n",
       "1           625        0  \n",
       "2           469        1  \n",
       "3           559        0  \n",
       "4           473        0  \n",
       "\n",
       "[5 rows x 87 columns]"
      ]
     },
     "execution_count": 2,
     "metadata": {},
     "output_type": "execute_result"
    }
   ],
   "source": [
    "df = pd.read_csv(\"./PSI_METRICS/credit_score.csv\")\n",
    "df.head(5)"
   ]
  },
  {
   "cell_type": "code",
   "execution_count": 3,
   "id": "a9b2f948",
   "metadata": {},
   "outputs": [
    {
     "data": {
      "text/html": [
       "<div>\n",
       "<style scoped>\n",
       "    .dataframe tbody tr th:only-of-type {\n",
       "        vertical-align: middle;\n",
       "    }\n",
       "\n",
       "    .dataframe tbody tr th {\n",
       "        vertical-align: top;\n",
       "    }\n",
       "\n",
       "    .dataframe thead th {\n",
       "        text-align: right;\n",
       "    }\n",
       "</style>\n",
       "<table border=\"1\" class=\"dataframe\">\n",
       "  <thead>\n",
       "    <tr style=\"text-align: right;\">\n",
       "      <th></th>\n",
       "      <th>INCOME</th>\n",
       "      <th>SAVINGS</th>\n",
       "      <th>DEBT</th>\n",
       "      <th>CREDIT_SCORE</th>\n",
       "      <th>DEFAULT</th>\n",
       "    </tr>\n",
       "  </thead>\n",
       "  <tbody>\n",
       "    <tr>\n",
       "      <th>0</th>\n",
       "      <td>33269</td>\n",
       "      <td>0</td>\n",
       "      <td>532304</td>\n",
       "      <td>444</td>\n",
       "      <td>1</td>\n",
       "    </tr>\n",
       "    <tr>\n",
       "      <th>1</th>\n",
       "      <td>77158</td>\n",
       "      <td>91187</td>\n",
       "      <td>315648</td>\n",
       "      <td>625</td>\n",
       "      <td>0</td>\n",
       "    </tr>\n",
       "    <tr>\n",
       "      <th>2</th>\n",
       "      <td>30917</td>\n",
       "      <td>21642</td>\n",
       "      <td>534864</td>\n",
       "      <td>469</td>\n",
       "      <td>1</td>\n",
       "    </tr>\n",
       "    <tr>\n",
       "      <th>3</th>\n",
       "      <td>80657</td>\n",
       "      <td>64526</td>\n",
       "      <td>629125</td>\n",
       "      <td>559</td>\n",
       "      <td>0</td>\n",
       "    </tr>\n",
       "    <tr>\n",
       "      <th>4</th>\n",
       "      <td>149971</td>\n",
       "      <td>1172498</td>\n",
       "      <td>2399531</td>\n",
       "      <td>473</td>\n",
       "      <td>0</td>\n",
       "    </tr>\n",
       "  </tbody>\n",
       "</table>\n",
       "</div>"
      ],
      "text/plain": [
       "   INCOME  SAVINGS     DEBT  CREDIT_SCORE  DEFAULT\n",
       "0   33269        0   532304           444        1\n",
       "1   77158    91187   315648           625        0\n",
       "2   30917    21642   534864           469        1\n",
       "3   80657    64526   629125           559        0\n",
       "4  149971  1172498  2399531           473        0"
      ]
     },
     "execution_count": 3,
     "metadata": {},
     "output_type": "execute_result"
    }
   ],
   "source": [
    "new_df = df[[\"INCOME\",\"SAVINGS\", \"DEBT\", \"CREDIT_SCORE\", \"DEFAULT\"]]\n",
    "new_df.head(5)"
   ]
  },
  {
   "cell_type": "code",
   "execution_count": 4,
   "id": "790c1ac9",
   "metadata": {},
   "outputs": [
    {
     "name": "stdout",
     "output_type": "stream",
     "text": [
      "(1000, 4) (1000,)\n"
     ]
    }
   ],
   "source": [
    "X = new_df.drop([\"DEFAULT\"], axis=1)\n",
    "y = new_df[\"DEFAULT\"]\n",
    "print(X.shape, y.shape)"
   ]
  },
  {
   "cell_type": "code",
   "execution_count": 5,
   "id": "8cd78567",
   "metadata": {},
   "outputs": [],
   "source": [
    "from sklearn.model_selection import train_test_split\n",
    "X_train, X_test, y_train, y_test = train_test_split(X, y, test_size=0.2, random_state=12)"
   ]
  },
  {
   "cell_type": "code",
   "execution_count": 45,
   "id": "45ffb468",
   "metadata": {},
   "outputs": [],
   "source": [
    "def PSI(y_test, y_pred, n_bins = 10):\n",
    "    hist, bin_edges = np.histogram(y_test, n_bins)\n",
    "    hist2, b_edges = np.histogram(y_pred, bins = bin_edges)\n",
    "    dev = np.array(hist)\n",
    "    dev = dev / len(y_test)\n",
    "    exp = np.array(hist2)\n",
    "    exp[exp == 0] = 1\n",
    "    exp = exp / len(y_pred)\n",
    "    psi = (dev - exp) * np.log(dev / exp)\n",
    "\n",
    "    return b_edges, dev, exp, psi"
   ]
  },
  {
   "cell_type": "code",
   "execution_count": 6,
   "id": "5b4a6f61",
   "metadata": {},
   "outputs": [],
   "source": [
    "from sklearn.ensemble import RandomForestClassifier\n",
    "model = RandomForestClassifier(n_estimators=10, random_state=45)"
   ]
  },
  {
   "cell_type": "code",
   "execution_count": 12,
   "id": "ce553a87",
   "metadata": {},
   "outputs": [
    {
     "name": "stdout",
     "output_type": "stream",
     "text": [
      "[  5  14  16  49 143 293 357 112  10   1] [300. 350. 400. 450. 500. 550. 600. 650. 700. 750. 800.]\n"
     ]
    }
   ],
   "source": [
    "hist, bin_edges = np.histogram(new_df[\"CREDIT_SCORE\"], 10)\n",
    "print(hist, bin_edges)"
   ]
  },
  {
   "cell_type": "code",
   "execution_count": 8,
   "id": "6874e4ba",
   "metadata": {},
   "outputs": [],
   "source": [
    "from sklearn.preprocessing import MinMaxScaler\n",
    "scaler = MinMaxScaler()\n",
    "X_train = scaler.fit_transform(X_train)\n",
    "X_test = scaler.fit_transform(X_test)"
   ]
  },
  {
   "cell_type": "code",
   "execution_count": 28,
   "id": "8ae9f315",
   "metadata": {},
   "outputs": [
    {
     "data": {
      "text/plain": [
       "array([[0.1, 0.9],\n",
       "       [0.7, 0.3],\n",
       "       [0.2, 0.8],\n",
       "       ...,\n",
       "       [0.3, 0.7],\n",
       "       [0.8, 0.2],\n",
       "       [0.8, 0.2]])"
      ]
     },
     "execution_count": 28,
     "metadata": {},
     "output_type": "execute_result"
    }
   ],
   "source": [
    "y_pred"
   ]
  },
  {
   "cell_type": "code",
   "execution_count": 39,
   "id": "7e981e77",
   "metadata": {},
   "outputs": [
    {
     "name": "stdout",
     "output_type": "stream",
     "text": [
      "0.20426941479573058 0.05731712663702975\n"
     ]
    }
   ],
   "source": [
    "from scipy.stats import ks_2samp\n",
    "model.fit(X_train, y_train)\n",
    "y_pred = model.predict_proba(X_test)\n",
    "ks_df = pd.DataFrame({\n",
    "    \"p\": y_pred[:,1],\n",
    "    \"y\": y_test\n",
    "})\n",
    "ks, p_value = ks_2samp(ks_df.loc[ks_df.y==0,\"p\"], ks_df.loc[ks_df.y==1,\"p\"])\n",
    "print(ks, p_value)\n",
    "ks_df = ks_df.sort_values(by=\"p\", ascending=False).reset_index(drop=True)\n",
    "ks_df.to_csv(\"KS.csv\")"
   ]
  },
  {
   "cell_type": "code",
   "execution_count": 42,
   "id": "345b97fb",
   "metadata": {},
   "outputs": [
    {
     "data": {
      "text/plain": [
       "array([0. , 0.1, 0.2, 0.3, 0.4, 0.5, 0.6, 0.7, 0.8, 0.9, 1. ])"
      ]
     },
     "execution_count": 42,
     "metadata": {},
     "output_type": "execute_result"
    }
   ],
   "source": [
    "freq, bin_edges = np.histogram(ks_df[\"p\"].to_numpy(), 10)\n",
    "bin_edges"
   ]
  },
  {
   "cell_type": "code",
   "execution_count": 67,
   "id": "982ef345",
   "metadata": {},
   "outputs": [
    {
     "data": {
      "text/plain": [
       "(200,)"
      ]
     },
     "execution_count": 67,
     "metadata": {},
     "output_type": "execute_result"
    }
   ],
   "source": [
    "y_pred.shape"
   ]
  },
  {
   "cell_type": "code",
   "execution_count": 46,
   "id": "77c2d212",
   "metadata": {},
   "outputs": [
    {
     "name": "stdout",
     "output_type": "stream",
     "text": [
      "[300. 344. 388. 432. 476. 520. 564. 608. 652. 696. 740.]\n",
      "[0.01  0.01  0.015 0.015 0.07  0.195 0.225 0.365 0.08  0.015]\n",
      "[0.005 0.01  0.055 0.03  0.13  0.235 0.28  0.195 0.06  0.005]\n",
      "[0.00346574 0.         0.05197132 0.01039721 0.03714235 0.00746344\n",
      " 0.01202791 0.10657263 0.00575364 0.01098612]\n",
      "0.24578034924596814\n"
     ]
    }
   ],
   "source": [
    "bins, dev, exp, psi = PSI(y_test, y_pred)\n",
    "print(bins)\n",
    "print(dev)\n",
    "print(exp)\n",
    "print(psi)\n",
    "print(sum(psi))"
   ]
  },
  {
   "cell_type": "code",
   "execution_count": 73,
   "id": "85b4872b",
   "metadata": {},
   "outputs": [
    {
     "name": "stdout",
     "output_type": "stream",
     "text": [
      "The calculated PSI value is: 0.7813\n"
     ]
    }
   ],
   "source": [
    "\n",
    "def calculate_psi(expected, actual, n_bins=10):\n",
    "    \"\"\"\n",
    "    Calculates the Population Stability Index (PSI) for a single variable.\n",
    "\n",
    "    Args:\n",
    "        expected (pd.Series or np.array): The baseline distribution (e.g., training data).\n",
    "        actual (pd.Series or np.array): The new distribution to compare against.\n",
    "        n_bins (int): The number of bins to use for the calculation.\n",
    "\n",
    "    Returns:\n",
    "        float: The calculated PSI value.\n",
    "    \"\"\"\n",
    "    # 1. Ensure inputs are Series for easier handling\n",
    "    if not isinstance(expected, pd.Series):\n",
    "        expected = pd.Series(expected)\n",
    "    if not isinstance(actual, pd.Series):\n",
    "        actual = pd.Series(actual)\n",
    "\n",
    "    # 2. Bin the expected data based on quantiles to get breakpoints\n",
    "    breakpoints = np.percentile(expected, np.arange(0, 101, 100/n_bins))\n",
    "    breakpoints = np.unique(breakpoints)\n",
    "\n",
    "    # 3. Assign data to bins and calculate percentages\n",
    "    expected_binned = pd.cut(expected, bins=breakpoints, include_lowest=True, right=True, labels=False)\n",
    "    actual_binned = pd.cut(actual, bins=breakpoints, include_lowest=True, right=True, labels=False)\n",
    "\n",
    "    expected_counts = expected_binned.value_counts(normalize=True).sort_index()\n",
    "    actual_counts = actual_binned.value_counts(normalize=True).sort_index()\n",
    "\n",
    "    # Create a DataFrame for the PSI calculation\n",
    "    psi_df = pd.DataFrame({'Expected': expected_counts, 'Actual': actual_counts}).fillna(0)\n",
    "\n",
    "    # 4. Handle zeros by clipping values to a small epsilon\n",
    "    psi_df['Expected'] = np.clip(psi_df['Expected'], 0.0001, None)\n",
    "    psi_df['Actual'] = np.clip(psi_df['Actual'], 0.0001, None)\n",
    "\n",
    "    # 5. Apply the PSI formula\n",
    "    psi_df['PSI'] = (psi_df['Actual'] - psi_df['Expected']) * np.log(psi_df['Actual'] / psi_df['Expected'])\n",
    "\n",
    "    return psi_df['PSI'].sum()\n",
    "\n",
    "\n",
    "psi_value = calculate_psi(y_pred, y_test)\n",
    "print(f\"The calculated PSI value is: {psi_value:.4f}\")"
   ]
  },
  {
   "cell_type": "code",
   "execution_count": 75,
   "id": "47bc6d94",
   "metadata": {},
   "outputs": [],
   "source": [
    "dic = {\"Credit_Score\": y_test,\n",
    "       \"Pred_Credit_Score\": y_pred  \n",
    "}\n",
    "df1 = pd.DataFrame(dic)\n",
    "df1.to_csv(\"PSI.csv\")"
   ]
  },
  {
   "cell_type": "code",
   "execution_count": null,
   "id": "e0fd7372",
   "metadata": {},
   "outputs": [],
   "source": [
    "dic = {\n",
    "    \"score_range\": bins,\n",
    "    \"scoring%\": exp * 100,\n",
    "    \"training%\": dev * 100,\n",
    "}"
   ]
  }
 ],
 "metadata": {
  "kernelspec": {
   "display_name": "base",
   "language": "python",
   "name": "python3"
  },
  "language_info": {
   "codemirror_mode": {
    "name": "ipython",
    "version": 3
   },
   "file_extension": ".py",
   "mimetype": "text/x-python",
   "name": "python",
   "nbconvert_exporter": "python",
   "pygments_lexer": "ipython3",
   "version": "3.13.5"
  }
 },
 "nbformat": 4,
 "nbformat_minor": 5
}
